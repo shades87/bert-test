{
 "cells": [
  {
   "cell_type": "code",
   "execution_count": 1,
   "metadata": {},
   "outputs": [],
   "source": [
    "from transformers import pipeline"
   ]
  },
  {
   "cell_type": "code",
   "execution_count": 4,
   "metadata": {},
   "outputs": [
    {
     "name": "stderr",
     "output_type": "stream",
     "text": [
      "No model was supplied, defaulted to sshleifer/distilbart-cnn-12-6 and revision a4f8f3e (https://huggingface.co/sshleifer/distilbart-cnn-12-6).\n",
      "Using a pipeline without specifying a model name and revision in production is not recommended.\n",
      "Your max_length is set to 142, but your input_length is only 96. Since this is a summarization task, where outputs shorter than the input are typically wanted, you might consider decreasing max_length manually, e.g. summarizer('...', max_length=48)\n"
     ]
    },
    {
     "data": {
      "text/plain": [
       "[{'summary_text': ' Paris is the capital and most populous city of France, with an estimated population of 2,175,601 residents as of 2018 . The city is the centre and seat of government of the region and province of Île-de-France, or Paris Region . Paris Region has an estimated 18 percent of the population of France as of 2017 .'}]"
      ]
     },
     "execution_count": 4,
     "metadata": {},
     "output_type": "execute_result"
    }
   ],
   "source": [
    "classifier = pipeline(\"summarization\")\n",
    "classifier(\"Paris is the capital and most populous city of France, with an estimated population of 2,175,601 residents as of 2018, in an area of more than 105 square kilometres (41 square miles). The City of Paris is the centre and seat of government of the region and province of Île-de-France, or Paris Region, which has an estimated population of 12,174,880, or about 18 percent of the population of France as of 2017.\")"
   ]
  },
  {
   "cell_type": "code",
   "execution_count": 5,
   "metadata": {},
   "outputs": [
    {
     "data": {
      "text/plain": [
       "[{'summary_text': ' Malta consists of an archipelago between Italy, Tunisia and Libya . It lies 80 km (50 mi) south of Sicily, Italy, 284 km (176 mi) east of Tunisia and 333 km (207 mi) north of Libya . With a population of about 519,000, Malta is the tenth-smallest country by area and fifth most densely populated sovereign country . The official languages are Maltese, the only Semitic language in the European Union, and English . Catholicism is the state religion, but the Constitution of Malta guarantees freedom of conscience and worship .'}]"
      ]
     },
     "execution_count": 5,
     "metadata": {},
     "output_type": "execute_result"
    }
   ],
   "source": [
    "classifier(\"Malta (/ˈmɒltə/ ⓘ MOL-tə, /ˈmɔːltə/ MAWL-tə, Maltese: [ˈmɐːltɐ]), officially the Republic of Malta (Maltese: Repubblika ta' Malta [rɛˈpʊbːlɪkɐ tɐ ˈmɐːltɐ]), is an island country in southern Europe, located in the Mediterranean Sea. It consists of an archipelago between Italy, Tunisia and Libya.[14] It lies 80 km (50 mi) south of Sicily, Italy, 284 km (176 mi) east of Tunisia,[15] and 333 km (207 mi) north of Libya.[16] The official languages are Maltese, the only Semitic language in the European Union, and English. The nation's capital is Valletta. With a population of about 519,000[8] over an area of 316 km2 (122 sq mi),[7] Malta is the tenth-smallest country by area[17][18] and fifth most densely populated sovereign country. Its capital is Valletta, the smallest national capital in the European Union by area and population. According to 2020 data by Eurostat, the Functional Urban Area and metropolitan region covered the whole island and has a population of 480,134.[19][20] According to the United Nations, ESPON and EU Commission, the whole territory of Malta constitutes a single urban region.[21][22] Malta increasingly is referred to as a city-state.[23][24][25] Malta has been inhabited since approximately 5900 BC.[26] Its location in the centre of the Mediterranean[27] has historically given it great strategic importance as a naval base, with a succession of powers having contested and ruled the islands, including the Phoenicians and Carthaginians, Greeks, Romans, Arabs, Normans, Aragonese, Knights of St. John, French, and British.[28] While Christianity has been present since the time of the early Christians, Malta was predominantly a Muslim country under Arab rule in the Middle Ages. Muslim rule ended with the Norman invasion of Malta by Roger I in 1091. Malta became a British colony in 1813, serving as the headquarters for the British Mediterranean Fleet. It was besieged by the Axis powers during World War II and was an important Allied base for operations in North Africa and the Mediterranean.[29][30] The British parliament passed the Malta Independence Act in 1964, giving Malta independence, with Elizabeth II as its queen.[31] The country became a republic in 1974. It has been a member state of the Commonwealth of Nations and the United Nations since independence, and joined the European Union in 2004; it became part of the eurozone monetary union in 2008. Malta is also closely tied historically and culturally to Italy and especially Sicily, with between 62 and 66 percent of Maltese people speaking or having significant knowledge of the Italian language, which was one of the official languages of Malta until 1934.[32][33]Catholicism is the state religion, but the Constitution of Malta guarantees freedom of conscience and religious worship.[34][35] The economy of Malta is heavily reliant on tourism, and the country promotes itself as a Mediterranean tourist destination with its warmer climate compared to the rest of Europe, numerous recreational areas, and architectural and historical monuments, including three UNESCO World Heritage Sites: Ħal Saflieni Hypogeum,[36] Valletta,[37] and seven megalithic temples which are some of the oldest free-standing structures in the world.[38][39][40]\")"
   ]
  }
 ],
 "metadata": {
  "kernelspec": {
   "display_name": "Python 3",
   "language": "python",
   "name": "python3"
  },
  "language_info": {
   "codemirror_mode": {
    "name": "ipython",
    "version": 3
   },
   "file_extension": ".py",
   "mimetype": "text/x-python",
   "name": "python",
   "nbconvert_exporter": "python",
   "pygments_lexer": "ipython3",
   "version": "3.11.8"
  }
 },
 "nbformat": 4,
 "nbformat_minor": 2
}
